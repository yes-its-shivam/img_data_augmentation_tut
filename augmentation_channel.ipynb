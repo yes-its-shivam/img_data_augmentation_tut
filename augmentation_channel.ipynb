{
 "cells": [
  {
   "cell_type": "code",
   "execution_count": 9,
   "id": "687dd883",
   "metadata": {},
   "outputs": [],
   "source": [
    "from keras.preprocessing.image import ImageDataGenerator,load_img, img_to_array\n",
    "import os"
   ]
  },
  {
   "cell_type": "code",
   "execution_count": 3,
   "id": "6340aa68",
   "metadata": {},
   "outputs": [],
   "source": [
    "datagen = ImageDataGenerator(\n",
    "        rotation_range=40,\n",
    "        width_shift_range=0.2,\n",
    "        height_shift_range=0.2,\n",
    "        rescale=1./255,\n",
    "        shear_range=0.2,\n",
    "        zoom_range=0.2,\n",
    "        horizontal_flip=True,\n",
    "        fill_mode='nearest')"
   ]
  },
  {
   "cell_type": "code",
   "execution_count": 5,
   "id": "ed0443e2",
   "metadata": {},
   "outputs": [
    {
     "data": {
      "text/plain": [
       "(408, 612, 3)"
      ]
     },
     "execution_count": 5,
     "metadata": {},
     "output_type": "execute_result"
    }
   ],
   "source": [
    "pic = load_img('istockphoto-1072769156-612x612.jpg')\n",
    "pic_array = img_to_array(pic)\n",
    "pic_array.shape"
   ]
  },
  {
   "cell_type": "code",
   "execution_count": 8,
   "id": "20f01553",
   "metadata": {},
   "outputs": [
    {
     "data": {
      "text/plain": [
       "(1, 408, 612, 3)"
      ]
     },
     "execution_count": 8,
     "metadata": {},
     "output_type": "execute_result"
    }
   ],
   "source": [
    "pic_array = pic_array.reshape((1,) + pic_array.shape) \n",
    "pic_array.shape"
   ]
  },
  {
   "cell_type": "code",
   "execution_count": 16,
   "id": "67ca86f2",
   "metadata": {},
   "outputs": [],
   "source": [
    "count = 0\n",
    "if not os.path.exists('Generated_images'):\n",
    "    if os.name == 'posix':\n",
    "        !mkdir -p {'Generated_images'}\n",
    "    if os.name == 'nt':\n",
    "         !mkdir {'Generated_images'}\n",
    "for batch in datagen.flow(pic_array, batch_size=5,save_to_dir=\"generated_images\", save_prefix='cat', save_format='jpeg'):\n",
    "    count += 1\n",
    "    if count >= 10:\n",
    "        break"
   ]
  }
 ],
 "metadata": {
  "kernelspec": {
   "display_name": "Python 3",
   "language": "python",
   "name": "python3"
  },
  "language_info": {
   "codemirror_mode": {
    "name": "ipython",
    "version": 3
   },
   "file_extension": ".py",
   "mimetype": "text/x-python",
   "name": "python",
   "nbconvert_exporter": "python",
   "pygments_lexer": "ipython3",
   "version": "3.8.8"
  }
 },
 "nbformat": 4,
 "nbformat_minor": 5
}
